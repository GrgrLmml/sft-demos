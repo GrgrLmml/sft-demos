{
  "cells": [
    {
      "cell_type": "markdown",
      "id": "761319ec-18e8-46c5-b7d6-bfdabc892e38",
      "metadata": {
        "id": "761319ec-18e8-46c5-b7d6-bfdabc892e38"
      },
      "source": [
        "## Post-process a finetuned LLM\n",
        "\n",
        "Test and upload dfurman/mpt-7b-dolphin, a finetuned language model for short-form instruction following.\n",
        "\n",
        "<a target=\"_blank\" href=\"https://colab.research.google.com/github/daniel-furman/sft-demos/blob/main/src/sft/one_gpu/mpt-7b/dolphin/postprocessing-instruction-mpt-7b-dolphin.ipynb\">\n",
        "  <img src=\"https://colab.research.google.com/assets/colab-badge.svg\" alt=\"Open In Colab\"/>\n",
        "</a>"
      ]
    },
    {
      "cell_type": "markdown",
      "id": "e24d7ddd-044f-4739-8b01-5a1b187150f5",
      "metadata": {
        "id": "e24d7ddd-044f-4739-8b01-5a1b187150f5"
      },
      "source": [
        "## Setup"
      ]
    },
    {
      "cell_type": "code",
      "execution_count": 1,
      "id": "tBd6r5nQoF57",
      "metadata": {
        "colab": {
          "base_uri": "https://localhost:8080/"
        },
        "id": "tBd6r5nQoF57",
        "outputId": "58043080-12f6-4038-980c-071827cd5fdf"
      },
      "outputs": [
        {
          "output_type": "stream",
          "name": "stdout",
          "text": [
            "Requirement already satisfied: transformers in /usr/local/lib/python3.10/dist-packages (4.31.0)\n",
            "Requirement already satisfied: accelerate in /usr/local/lib/python3.10/dist-packages (0.21.0)\n",
            "Requirement already satisfied: einops in /usr/local/lib/python3.10/dist-packages (0.6.1)\n",
            "Requirement already satisfied: filelock in /usr/local/lib/python3.10/dist-packages (from transformers) (3.12.2)\n",
            "Requirement already satisfied: huggingface-hub<1.0,>=0.14.1 in /usr/local/lib/python3.10/dist-packages (from transformers) (0.16.4)\n",
            "Requirement already satisfied: numpy>=1.17 in /usr/local/lib/python3.10/dist-packages (from transformers) (1.22.4)\n",
            "Requirement already satisfied: packaging>=20.0 in /usr/local/lib/python3.10/dist-packages (from transformers) (23.1)\n",
            "Requirement already satisfied: pyyaml>=5.1 in /usr/local/lib/python3.10/dist-packages (from transformers) (6.0.1)\n",
            "Requirement already satisfied: regex!=2019.12.17 in /usr/local/lib/python3.10/dist-packages (from transformers) (2022.10.31)\n",
            "Requirement already satisfied: requests in /usr/local/lib/python3.10/dist-packages (from transformers) (2.27.1)\n",
            "Requirement already satisfied: tokenizers!=0.11.3,<0.14,>=0.11.1 in /usr/local/lib/python3.10/dist-packages (from transformers) (0.13.3)\n",
            "Requirement already satisfied: safetensors>=0.3.1 in /usr/local/lib/python3.10/dist-packages (from transformers) (0.3.1)\n",
            "Requirement already satisfied: tqdm>=4.27 in /usr/local/lib/python3.10/dist-packages (from transformers) (4.65.0)\n",
            "Requirement already satisfied: psutil in /usr/local/lib/python3.10/dist-packages (from accelerate) (5.9.5)\n",
            "Requirement already satisfied: torch>=1.10.0 in /usr/local/lib/python3.10/dist-packages (from accelerate) (2.0.1+cu118)\n",
            "Requirement already satisfied: fsspec in /usr/local/lib/python3.10/dist-packages (from huggingface-hub<1.0,>=0.14.1->transformers) (2023.6.0)\n",
            "Requirement already satisfied: typing-extensions>=3.7.4.3 in /usr/local/lib/python3.10/dist-packages (from huggingface-hub<1.0,>=0.14.1->transformers) (4.7.1)\n",
            "Requirement already satisfied: sympy in /usr/local/lib/python3.10/dist-packages (from torch>=1.10.0->accelerate) (1.11.1)\n",
            "Requirement already satisfied: networkx in /usr/local/lib/python3.10/dist-packages (from torch>=1.10.0->accelerate) (3.1)\n",
            "Requirement already satisfied: jinja2 in /usr/local/lib/python3.10/dist-packages (from torch>=1.10.0->accelerate) (3.1.2)\n",
            "Requirement already satisfied: triton==2.0.0 in /usr/local/lib/python3.10/dist-packages (from torch>=1.10.0->accelerate) (2.0.0)\n",
            "Requirement already satisfied: cmake in /usr/local/lib/python3.10/dist-packages (from triton==2.0.0->torch>=1.10.0->accelerate) (3.25.2)\n",
            "Requirement already satisfied: lit in /usr/local/lib/python3.10/dist-packages (from triton==2.0.0->torch>=1.10.0->accelerate) (16.0.6)\n",
            "Requirement already satisfied: urllib3<1.27,>=1.21.1 in /usr/local/lib/python3.10/dist-packages (from requests->transformers) (1.26.16)\n",
            "Requirement already satisfied: certifi>=2017.4.17 in /usr/local/lib/python3.10/dist-packages (from requests->transformers) (2023.5.7)\n",
            "Requirement already satisfied: charset-normalizer~=2.0.0 in /usr/local/lib/python3.10/dist-packages (from requests->transformers) (2.0.12)\n",
            "Requirement already satisfied: idna<4,>=2.5 in /usr/local/lib/python3.10/dist-packages (from requests->transformers) (3.4)\n",
            "Requirement already satisfied: MarkupSafe>=2.0 in /usr/local/lib/python3.10/dist-packages (from jinja2->torch>=1.10.0->accelerate) (2.1.3)\n",
            "Requirement already satisfied: mpmath>=0.19 in /usr/local/lib/python3.10/dist-packages (from sympy->torch>=1.10.0->accelerate) (1.3.0)\n",
            "Collecting triton-pre-mlir@ git+https://github.com/vchiley/triton.git@triton_pre_mlir#subdirectory=python\n",
            "  Cloning https://github.com/vchiley/triton.git (to revision triton_pre_mlir) to /tmp/pip-install-4fhl8ex0/triton-pre-mlir_cf0f1faf289644dd8925beb22a15b27b\n",
            "  Running command git clone --filter=blob:none --quiet https://github.com/vchiley/triton.git /tmp/pip-install-4fhl8ex0/triton-pre-mlir_cf0f1faf289644dd8925beb22a15b27b\n",
            "  Running command git checkout -b triton_pre_mlir --track origin/triton_pre_mlir\n",
            "  Switched to a new branch 'triton_pre_mlir'\n",
            "  Branch 'triton_pre_mlir' set up to track remote branch 'triton_pre_mlir' from 'origin'.\n",
            "  Resolved https://github.com/vchiley/triton.git to commit 2dd3b957698a39bbca615c02a447a98482c144a3\n",
            "  Running command git submodule update --init --recursive -q\n",
            "  Preparing metadata (setup.py) ... \u001b[?25l\u001b[?25hdone\n",
            "Requirement already satisfied: cmake in /usr/local/lib/python3.10/dist-packages (from triton-pre-mlir@ git+https://github.com/vchiley/triton.git@triton_pre_mlir#subdirectory=python) (3.25.2)\n",
            "Requirement already satisfied: filelock in /usr/local/lib/python3.10/dist-packages (from triton-pre-mlir@ git+https://github.com/vchiley/triton.git@triton_pre_mlir#subdirectory=python) (3.12.2)\n",
            "Requirement already satisfied: torch in /usr/local/lib/python3.10/dist-packages (from triton-pre-mlir@ git+https://github.com/vchiley/triton.git@triton_pre_mlir#subdirectory=python) (2.0.1+cu118)\n",
            "Requirement already satisfied: typing-extensions in /usr/local/lib/python3.10/dist-packages (from torch->triton-pre-mlir@ git+https://github.com/vchiley/triton.git@triton_pre_mlir#subdirectory=python) (4.7.1)\n",
            "Requirement already satisfied: sympy in /usr/local/lib/python3.10/dist-packages (from torch->triton-pre-mlir@ git+https://github.com/vchiley/triton.git@triton_pre_mlir#subdirectory=python) (1.11.1)\n",
            "Requirement already satisfied: networkx in /usr/local/lib/python3.10/dist-packages (from torch->triton-pre-mlir@ git+https://github.com/vchiley/triton.git@triton_pre_mlir#subdirectory=python) (3.1)\n",
            "Requirement already satisfied: jinja2 in /usr/local/lib/python3.10/dist-packages (from torch->triton-pre-mlir@ git+https://github.com/vchiley/triton.git@triton_pre_mlir#subdirectory=python) (3.1.2)\n",
            "Requirement already satisfied: triton==2.0.0 in /usr/local/lib/python3.10/dist-packages (from torch->triton-pre-mlir@ git+https://github.com/vchiley/triton.git@triton_pre_mlir#subdirectory=python) (2.0.0)\n",
            "Requirement already satisfied: lit in /usr/local/lib/python3.10/dist-packages (from triton==2.0.0->torch->triton-pre-mlir@ git+https://github.com/vchiley/triton.git@triton_pre_mlir#subdirectory=python) (16.0.6)\n",
            "Requirement already satisfied: MarkupSafe>=2.0 in /usr/local/lib/python3.10/dist-packages (from jinja2->torch->triton-pre-mlir@ git+https://github.com/vchiley/triton.git@triton_pre_mlir#subdirectory=python) (2.1.3)\n",
            "Requirement already satisfied: mpmath>=0.19 in /usr/local/lib/python3.10/dist-packages (from sympy->torch->triton-pre-mlir@ git+https://github.com/vchiley/triton.git@triton_pre_mlir#subdirectory=python) (1.3.0)\n"
          ]
        }
      ],
      "source": [
        "!pip install transformers accelerate einops\n",
        "!pip install triton-pre-mlir@git+https://github.com/vchiley/triton.git@triton_pre_mlir#subdirectory=python"
      ]
    },
    {
      "cell_type": "code",
      "execution_count": 2,
      "id": "u0MHJMUqpCa2",
      "metadata": {
        "colab": {
          "base_uri": "https://localhost:8080/"
        },
        "id": "u0MHJMUqpCa2",
        "outputId": "b2594b2e-b3ae-409a-9a14-176e01a93faa"
      },
      "outputs": [
        {
          "output_type": "stream",
          "name": "stdout",
          "text": [
            "fatal: destination path 'sft-demos' already exists and is not an empty directory.\n"
          ]
        }
      ],
      "source": [
        "!git clone https://github.com/daniel-furman/sft-demos.git"
      ]
    },
    {
      "cell_type": "code",
      "execution_count": 3,
      "id": "63449bd1-4434-4f0e-b41c-e3d86815319b",
      "metadata": {
        "id": "63449bd1-4434-4f0e-b41c-e3d86815319b"
      },
      "outputs": [],
      "source": [
        "import transformers\n",
        "import torch\n",
        "import tensorflow as tf\n",
        "import matplotlib.pyplot as plt\n",
        "import numpy as np"
      ]
    },
    {
      "cell_type": "code",
      "execution_count": 4,
      "id": "bfeb06bd-96d9-4db0-81ee-1053104f915c",
      "metadata": {
        "colab": {
          "base_uri": "https://localhost:8080/"
        },
        "id": "bfeb06bd-96d9-4db0-81ee-1053104f915c",
        "outputId": "f970d217-e46a-4f10-ed5c-f96e9b9da294"
      },
      "outputs": [
        {
          "output_type": "stream",
          "name": "stdout",
          "text": [
            "Sun Jul 23 17:34:36 2023       \n",
            "+-----------------------------------------------------------------------------+\n",
            "| NVIDIA-SMI 525.105.17   Driver Version: 525.105.17   CUDA Version: 12.0     |\n",
            "|-------------------------------+----------------------+----------------------+\n",
            "| GPU  Name        Persistence-M| Bus-Id        Disp.A | Volatile Uncorr. ECC |\n",
            "| Fan  Temp  Perf  Pwr:Usage/Cap|         Memory-Usage | GPU-Util  Compute M. |\n",
            "|                               |                      |               MIG M. |\n",
            "|===============================+======================+======================|\n",
            "|   0  Tesla T4            Off  | 00000000:00:04.0 Off |                    0 |\n",
            "| N/A   47C    P8     9W /  70W |      0MiB / 15360MiB |      0%      Default |\n",
            "|                               |                      |                  N/A |\n",
            "+-------------------------------+----------------------+----------------------+\n",
            "                                                                               \n",
            "+-----------------------------------------------------------------------------+\n",
            "| Processes:                                                                  |\n",
            "|  GPU   GI   CI        PID   Type   Process name                  GPU Memory |\n",
            "|        ID   ID                                                   Usage      |\n",
            "|=============================================================================|\n",
            "|  No running processes found                                                 |\n",
            "+-----------------------------------------------------------------------------+\n"
          ]
        }
      ],
      "source": [
        "!nvidia-smi"
      ]
    },
    {
      "cell_type": "code",
      "execution_count": 5,
      "id": "e2057759-7bd5-460a-86fd-c49897fbf79c",
      "metadata": {
        "colab": {
          "base_uri": "https://localhost:8080/"
        },
        "id": "e2057759-7bd5-460a-86fd-c49897fbf79c",
        "outputId": "fb312c57-f711-495f-8150-90abdca6a292"
      },
      "outputs": [
        {
          "output_type": "stream",
          "name": "stdout",
          "text": [
            "max memory:  {0: '12GB'}\n"
          ]
        }
      ],
      "source": [
        "free_in_GB = int(torch.cuda.mem_get_info()[0] / 1024**3)\n",
        "max_memory = f\"{free_in_GB-2}GB\"\n",
        "n_gpus = torch.cuda.device_count()\n",
        "max_memory = {i: max_memory for i in range(n_gpus)}\n",
        "print(\"max memory: \", max_memory)"
      ]
    },
    {
      "cell_type": "markdown",
      "id": "c68a3bba-f374-4ed6-acb6-ebedeb6e29be",
      "metadata": {
        "id": "c68a3bba-f374-4ed6-acb6-ebedeb6e29be"
      },
      "source": [
        "## Loss curve"
      ]
    },
    {
      "cell_type": "code",
      "execution_count": 6,
      "id": "f326a338-707f-497c-b748-c6f0b85fa9c1",
      "metadata": {
        "colab": {
          "base_uri": "https://localhost:8080/"
        },
        "id": "f326a338-707f-497c-b748-c6f0b85fa9c1",
        "outputId": "154f40e1-7c87-4ec8-86b1-5fedaa0599ee"
      },
      "outputs": [
        {
          "output_type": "stream",
          "name": "stderr",
          "text": [
            "WARNING:tensorflow:From /usr/local/lib/python3.10/dist-packages/tensorflow/python/summary/summary_iterator.py:27: tf_record_iterator (from tensorflow.python.lib.io.tf_record) is deprecated and will be removed in a future version.\n",
            "Instructions for updating:\n",
            "Use eager execution and: \n",
            "`tf.data.TFRecordDataset(path)`\n"
          ]
        }
      ],
      "source": [
        "# assumes you have already run `sft-instruction-llm.py`\n",
        "# see documentation and comments therein for details\n",
        "# recommendation: run `sft-instruction-llm.py` directly from the terminal\n",
        "# by default, the mpt-7b instruction model demo is used\n",
        "\n",
        "\n",
        "# load the train loss from the finetuning events log\n",
        "train_steps = []\n",
        "train_loss = []\n",
        "path_to_events_file = \"/content/sft-demos/runs/jul_5_23_3_15_00_sft-mpt-7b-dolphin/events.out.tfevents.1688487599.209-20-156-79.36094.0\"\n",
        "for e in tf.compat.v1.train.summary_iterator(path_to_events_file):\n",
        "    for v in e.summary.value:\n",
        "        if v.tag == \"train/loss\":\n",
        "            train_loss.append(v.simple_value)\n",
        "            train_steps.append(e.step)\n",
        "\n",
        "# load the val loss from the finetuning events log\n",
        "val_steps = []\n",
        "val_loss = []\n",
        "path_to_events_file = \"/content/sft-demos/runs/jul_5_23_3_15_00_sft-mpt-7b-dolphin/events.out.tfevents.1688487599.209-20-156-79.36094.0\"\n",
        "for e in tf.compat.v1.train.summary_iterator(path_to_events_file):\n",
        "    for v in e.summary.value:\n",
        "        if v.tag == \"eval/loss\":\n",
        "            val_loss.append(v.simple_value)\n",
        "            val_steps.append(e.step)"
      ]
    },
    {
      "cell_type": "code",
      "execution_count": 7,
      "id": "2fbb309b-57d8-4633-9466-b2feccb8323d",
      "metadata": {
        "colab": {
          "base_uri": "https://localhost:8080/",
          "height": 519
        },
        "id": "2fbb309b-57d8-4633-9466-b2feccb8323d",
        "outputId": "b627ead9-f216-40c0-8905-790b82aa68a8"
      },
      "outputs": [
        {
          "output_type": "display_data",
          "data": {
            "text/plain": [
              "<Figure size 1000x600 with 1 Axes>"
            ],
            "image/png": "[encoded data removed]"
          },
          "metadata": {}
        }
      ],
      "source": [
        "# plt.style.use(\"seaborn\")\n",
        "plt.figure(figsize=(10, 6))\n",
        "plt.plot(train_steps, train_loss, label=\"train/loss\")\n",
        "plt.plot(val_steps, val_loss, label=\"eval/loss\", color=\"orange\")\n",
        "plt.title('Cross entropy loss for \"dfurman/mpt-7b-dolphin\"', fontsize=17)\n",
        "plt.ylabel(\"Cross entropy loss\")\n",
        "plt.xlabel(\"Train global setp\")\n",
        "plt.grid(which=\"major\", axis=\"y\")\n",
        "plt.legend()\n",
        "plt.show()"
      ]
    },
    {
      "cell_type": "markdown",
      "id": "d6076740-c324-49a9-841e-30b4878d208b",
      "metadata": {
        "id": "d6076740-c324-49a9-841e-30b4878d208b"
      },
      "source": [
        "With a supervised finetuned (sft) model in hand, we can test it on some basic prompts and then upload it to the Hugging Face hub either as a public or private model repo, depending on the use case."
      ]
    },
    {
      "cell_type": "code",
      "execution_count": 8,
      "id": "6b17e2d0-b482-4ebd-a830-325d98318f70",
      "metadata": {
        "colab": {
          "base_uri": "https://localhost:8080/",
          "height": 1000,
          "referenced_widgets": [
            "e748af64bd06402f9f11fb60e63a8267",
            "ef6208ce870b41fc835651e2de86eafc",
            "b209380f853844bfa6867d9244b97abc",
            "cd2ff35180e5412ebdb953ebd6eeba3b",
            "dedca43f72164d0b9f934f6d2239e511",
            "68a0e1fb567542ba8e052f4edb8b7738",
            "614dadd1ccc347d296d1165abf1ca95a",
            "67b52eef660a494fbfd0caa49c0aa53f",
            "03fc28dd86384016ba37e7d30de9bb38",
            "2efa5fcabe034c14afda48116298ec15",
            "f1126870ed594add951eac2da85aadca",
            "f713327029684d4da2e38900f2df327e",
            "f3288d27316e4834b5496907e010da00",
            "6b014b1f6b5f4ca89739a7a4bfc51970",
            "f98d6fac682243d4a29bd97b07d0af81",
            "7eb9754abaf6419ca34660e77aec6190",
            "51e2d8baad4b4e0a8aaf11f715bd8508",
            "bd8fd9169ba44e61a0498d6211b29812",
            "7e389f5367ed4e2f8dc895ecb7f60ecf",
            "45e6ef92644a41c5ac455908868ee543",
            "0d919bc90f7b4cd483076af558536152",
            "b08f891c70bf4dc69e700a276adcf8a1"
          ]
        },
        "id": "6b17e2d0-b482-4ebd-a830-325d98318f70",
        "outputId": "602b9be1-37f4-4562-8e33-f79998bbd69f"
      },
      "outputs": [
        {
          "output_type": "display_data",
          "data": {
            "text/plain": [
              "Downloading shards:   0%|          | 0/2 [00:00<?, ?it/s]"
            ],
            "application/vnd.jupyter.widget-view+json": {
              "version_major": 2,
              "version_minor": 0,
              "model_id": "e748af64bd06402f9f11fb60e63a8267"
            }
          },
          "metadata": {}
        },
        {
          "output_type": "stream",
          "name": "stdout",
          "text": [
            "Instantiating an MPTForCausalLM model from /root/.cache/huggingface/modules/transformers_modules/mosaicml/mpt-7b/72e5f594ce36f9cabfa2a9fd8f58b491eb467ee7/modeling_mpt.py\n"
          ]
        },
        {
          "output_type": "stream",
          "name": "stderr",
          "text": [
            "WARNING:accelerate.utils.modeling:The model weights are not tied. Please use the `tie_weights` method before using the `infer_auto_device` function.\n"
          ]
        },
        {
          "output_type": "display_data",
          "data": {
            "text/plain": [
              "Loading checkpoint shards:   0%|          | 0/2 [00:00<?, ?it/s]"
            ],
            "application/vnd.jupyter.widget-view+json": {
              "version_major": 2,
              "version_minor": 0,
              "model_id": "f713327029684d4da2e38900f2df327e"
            }
          },
          "metadata": {}
        },
        {
          "output_type": "execute_result",
          "data": {
            "text/plain": [
              "MPTConfig {\n",
              "  \"_name_or_path\": \"dfurman/mpt-7b-dolphin\",\n",
              "  \"architectures\": [\n",
              "    \"MPTForCausalLM\"\n",
              "  ],\n",
              "  \"attn_config\": {\n",
              "    \"alibi\": true,\n",
              "    \"alibi_bias_max\": 8,\n",
              "    \"attn_impl\": \"torch\",\n",
              "    \"attn_pdrop\": 0,\n",
              "    \"attn_type\": \"multihead_attention\",\n",
              "    \"attn_uses_sequence_id\": false,\n",
              "    \"clip_qkv\": null,\n",
              "    \"prefix_lm\": false,\n",
              "    \"qk_ln\": false,\n",
              "    \"softmax_scale\": null\n",
              "  },\n",
              "  \"auto_map\": {\n",
              "    \"AutoConfig\": \"mosaicml/mpt-7b--configuration_mpt.MPTConfig\",\n",
              "    \"AutoModelForCausalLM\": \"mosaicml/mpt-7b--modeling_mpt.MPTForCausalLM\"\n",
              "  },\n",
              "  \"d_model\": 4096,\n",
              "  \"emb_pdrop\": 0,\n",
              "  \"embedding_fraction\": 1.0,\n",
              "  \"expansion_ratio\": 4,\n",
              "  \"init_config\": {\n",
              "    \"emb_init_std\": null,\n",
              "    \"emb_init_uniform_lim\": null,\n",
              "    \"fan_mode\": \"fan_in\",\n",
              "    \"init_div_is_residual\": true,\n",
              "    \"init_gain\": 0,\n",
              "    \"init_nonlinearity\": \"relu\",\n",
              "    \"init_std\": 0.02,\n",
              "    \"name\": \"kaiming_normal_\",\n",
              "    \"verbose\": 0\n",
              "  },\n",
              "  \"init_device\": \"meta\",\n",
              "  \"learned_pos_emb\": true,\n",
              "  \"logit_scale\": null,\n",
              "  \"max_seq_len\": 2048,\n",
              "  \"model_type\": \"mpt\",\n",
              "  \"n_heads\": 32,\n",
              "  \"n_layers\": 32,\n",
              "  \"no_bias\": true,\n",
              "  \"norm_type\": \"low_precision_layernorm\",\n",
              "  \"resid_pdrop\": 0,\n",
              "  \"tokenizer_name\": \"EleutherAI/gpt-neox-20b\",\n",
              "  \"torch_dtype\": \"float16\",\n",
              "  \"transformers_version\": \"4.31.0\",\n",
              "  \"use_cache\": false,\n",
              "  \"verbose\": 0,\n",
              "  \"vocab_size\": 50432\n",
              "}"
            ]
          },
          "metadata": {},
          "execution_count": 8
        }
      ],
      "source": [
        "# load assets\n",
        "\n",
        "model_id = \"dfurman/mpt-7b-dolphin\"\n",
        "\n",
        "# mpt tokenizer load\n",
        "tokenizer = transformers.AutoTokenizer.from_pretrained(model_id)\n",
        "tokenizer.pad_token = tokenizer.eos_token\n",
        "tokenizer.pad_token_id = tokenizer.eos_token_id\n",
        "\n",
        "# mpt llm load\n",
        "config = transformers.AutoConfig.from_pretrained(model_id, trust_remote_code=True)\n",
        "\n",
        "# custom options\n",
        "config.attn_config[\"attn_impl\"] = \"torch\"  # Custom cuda kernels\n",
        "config.init_device = \"meta\"  # For fast initialization directly on GPU!\n",
        "# config.max_seq_len = 4096 # (input + output) tokens can now be up to 4096\n",
        "config.torch_dtype = \"float16\"  # Set float16 data type\n",
        "\n",
        "model = transformers.AutoModelForCausalLM.from_pretrained(\n",
        "    model_id,\n",
        "    config=config,\n",
        "    torch_dtype=torch.float16,\n",
        "    trust_remote_code=True,\n",
        "    device_map=\"auto\",\n",
        ")\n",
        "\n",
        "config"
      ]
    },
    {
      "cell_type": "markdown",
      "id": "f22903cd-481e-403d-a2f1-50e9fea9f113",
      "metadata": {
        "id": "f22903cd-481e-403d-a2f1-50e9fea9f113"
      },
      "source": [
        "## Basic instruction tests"
      ]
    },
    {
      "cell_type": "code",
      "execution_count": 9,
      "id": "175e9207-f17b-4ba0-9d3c-cf1ad2f69946",
      "metadata": {
        "id": "175e9207-f17b-4ba0-9d3c-cf1ad2f69946"
      },
      "outputs": [],
      "source": [
        "# text generation function\n",
        "\n",
        "\n",
        "def mpt_generate(\n",
        "    model: transformers.AutoModelForCausalLM,\n",
        "    tokenizer: transformers.AutoTokenizer,\n",
        "    prompt: str,\n",
        "    max_new_tokens: int = 128,\n",
        "    temperature: int = 1.0,\n",
        ") -> str:\n",
        "    \"\"\"\n",
        "    Initialize the pipeline\n",
        "    Uses Hugging Face GenerationConfig defaults\n",
        "        https://huggingface.co/docs/transformers/v4.29.1/en/main_classes/text_generation#transformers.GenerationConfig\n",
        "    Args:\n",
        "        model (transformers.AutoModelForCausalLM): Model for text generation\n",
        "        tokenizer (transformers.AutoTokenizer): Tokenizer for model\n",
        "        prompt (str): Prompt for text generation\n",
        "        max_new_tokens (int, optional): Max new tokens after the prompt to generate.\n",
        "            Defaults to 128.\n",
        "        temperature (float, optional): The value used to modulate the next token probabilities.\n",
        "            Defaults to 1.0\n",
        "    \"\"\"\n",
        "    device = torch.device(\"cuda\" if torch.cuda.is_available() else \"cpu\")\n",
        "\n",
        "    inputs = tokenizer(\n",
        "        prompt,\n",
        "        return_tensors=\"pt\",\n",
        "        return_token_type_ids=False,\n",
        "    ).to(\n",
        "        device\n",
        "    )  # tokenize inputs, load on device\n",
        "\n",
        "    # when running Torch modules in lower precision, it is best practice to use the torch.autocast context manager.\n",
        "    with torch.autocast(\"cuda\", dtype=torch.float16):\n",
        "        response = model.generate(\n",
        "            **inputs,\n",
        "            max_new_tokens=max_new_tokens,\n",
        "            temperature=temperature,\n",
        "            return_dict_in_generate=True,\n",
        "            eos_token_id=tokenizer.eos_token_id,\n",
        "            pad_token_id=tokenizer.pad_token_id,\n",
        "        )\n",
        "\n",
        "    decoded_output = tokenizer.decode(\n",
        "        response[\"sequences\"][0],\n",
        "        skip_special_tokens=True,\n",
        "    )  # grab output in natural language\n",
        "\n",
        "    return decoded_output[len(prompt) :]  # remove prompt from output"
      ]
    },
    {
      "cell_type": "code",
      "execution_count": 10,
      "id": "dd8d36ba-e1a3-444b-b718-af104e130858",
      "metadata": {
        "colab": {
          "base_uri": "https://localhost:8080/"
        },
        "id": "dd8d36ba-e1a3-444b-b718-af104e130858",
        "outputId": "8290163a-3480-445f-f8c4-6dbf6b59e959"
      },
      "outputs": [
        {
          "output_type": "stream",
          "name": "stdout",
          "text": [
            "1. Visit the Statue of Liberty: The Statue of Liberty is a symbol of freedom and democracy, and it is a must-see attraction in New York City.\n",
            "2. Take a stroll through Central Park: Central Park is a massive urban oasis in the heart of Manhattan, offering a variety of activities and attractions.\n",
            "3. Visit the Metropolitan Museum of Art: The Met is one of the world's largest and most renowned art museums, housing an extensive collection of art and artifacts.\n",
            "4. Take a tour of the Empire State Building: The Empire State Building is a famous skyscraper in Midtown Manhattan, offering panoramic views of the city.\n",
            "5. Visit the 9/11 Memorial and Museum: The 9/11 Memorial and Museum is a somber but important tribute to the victims of the September 11th attacks.\n",
            "6. Explore the Museum of Modern Art (MoMA): MoMA is a renowned art museum in Midtown Manhattan, showcasing modern and contemporary art from around the world.\n",
            "7. Take a ferry ride to the Statue of Liberty and Ellis Island: A ferry ride to the Statue of Liberty and Ellis Island is a great way to experience the history and beauty of these iconic landmarks.\n",
            "8. Visit the Metropolitan Opera: The Metropolitan Opera is a world-renowned opera house in Midtown Manhattan, offering a variety of performances throughout the year.\n",
            "9. Visit the Museum of Natural History: The Museum of\n"
          ]
        }
      ],
      "source": [
        "prompt = \"You are a helpful assistant. Write me a numbered list of things to do in New York City.\\n\"\n",
        "\n",
        "response = mpt_generate(\n",
        "    model,\n",
        "    tokenizer,\n",
        "    prompt,\n",
        "    max_new_tokens=300,\n",
        "    temperature=0.92,\n",
        ")\n",
        "\n",
        "print(response)"
      ]
    },
    {
      "cell_type": "code",
      "execution_count": 11,
      "id": "b9753d7f-a9f9-4e96-ac7d-28cd1ef3034b",
      "metadata": {
        "colab": {
          "base_uri": "https://localhost:8080/"
        },
        "id": "b9753d7f-a9f9-4e96-ac7d-28cd1ef3034b",
        "outputId": "9a2943af-1eaf-4ddf-c62a-a3d54b7d3fc0"
      },
      "outputs": [
        {
          "output_type": "stream",
          "name": "stdout",
          "text": [
            "\n",
            "Step 1: Identify the days of the week when the barber works.\n",
            "The barber works Mondays, Wednesdays, and Fridays.\n",
            "\n",
            "Step 2: Determine the day of the week on which Daniel went for a haircut.\n",
            "Daniel went for a haircut on Sunday.\n",
            "\n",
            "Step 3: Compare the day of the week on which Daniel went for a haircut to the days when the barber works.\n",
            "Sunday is not one of the days when the barber works.\n",
            "\n",
            "Step 4: Determine if the statement makes logical sense.\n",
            "The statement does not make logical sense because Daniel went for a haircut on a day when the barber does not work.\n",
            "\n",
            "Answer: No, the statement does not make logical sense. Daniel should have gone for a haircut on a day when the barber works, such as Monday, Wednesday, or Friday.\n",
            "\n",
            "In conclusion, the statement \"Daniel went in for a haircut on Sunday\" does not make logical sense because Sunday is not one of the days when the barber works. Daniel should have gone for a haircut on a day when the barber works, such as Monday, Wednesday, or Friday. Therefore, the answer is no, the statement does not make logical sense.\n",
            "\n",
            "If you have any questions or need clarification, please let me know. I'm here to help!\n",
            "\n",
            "Thank you for using my service.\n"
          ]
        }
      ],
      "source": [
        "prompt = \"You are a helpful assistant. Daniel is in need of a haircut. His barber works Mondays, Wednesdays, and Fridays. So, Daniel went in for a haircut on Sunday. Does this make logical sense? Let's work this out in a step by step fashion to make sure we have the right answer.\\n\"\n",
        "\n",
        "response = mpt_generate(\n",
        "    model,\n",
        "    tokenizer,\n",
        "    prompt,\n",
        "    max_new_tokens=300,\n",
        "    temperature=0.92,\n",
        ")\n",
        "\n",
        "print(response)"
      ]
    },
    {
      "cell_type": "code",
      "execution_count": 15,
      "id": "f3c7f8e8-aa1e-4cec-a6ca-20776da1673d",
      "metadata": {
        "colab": {
          "base_uri": "https://localhost:8080/"
        },
        "id": "f3c7f8e8-aa1e-4cec-a6ca-20776da1673d",
        "outputId": "75b55bad-cf0b-4f73-deb7-88f0f791a41f"
      },
      "outputs": [
        {
          "output_type": "stream",
          "name": "stdout",
          "text": [
            "Subject: Invitation to Friday Dinner Party\n",
            "\n",
            "Dear Friend,\n",
            "\n",
            "I hope this email finds you well. I am writing to invite you to a dinner party that I am hosting on Friday. The party will be a casual gathering, and I would love to have you join us.\n",
            "\n",
            "The dinner will be held at my home, and the time is from 7:00 pm to 10:00 pm. The address is 123 Main Street, San Francisco, CA 94122.\n",
            "\n",
            "The dinner will be a potluck, so please bring a dish to share. I will provide the main course and beverages.\n",
            "\n",
            "Please RSVP by replying to this email or by calling me at 555-555-5555. I look forward to seeing you on Friday!\n",
            "\n",
            "Yours,\n",
            "\n",
            "Your Friendly Assistant\n",
            "\n",
            "[Your name]\n"
          ]
        }
      ],
      "source": [
        "prompt = \"You are a helpful assistant. Write a short email inviting my friends to a dinner party on Friday. Respond succinctly.\\n\"\n",
        "\n",
        "response = mpt_generate(\n",
        "    model,\n",
        "    tokenizer,\n",
        "    prompt,\n",
        "    max_new_tokens=175,\n",
        "    temperature=0.92,\n",
        ")\n",
        "\n",
        "print(response)"
      ]
    },
    {
      "cell_type": "code",
      "execution_count": 13,
      "id": "qhjrs9mGstZ5",
      "metadata": {
        "colab": {
          "base_uri": "https://localhost:8080/"
        },
        "id": "qhjrs9mGstZ5",
        "outputId": "8c1c18ae-73ac-4804-ff5c-1364fd8dc66c"
      },
      "outputs": [
        {
          "output_type": "stream",
          "name": "stdout",
          "text": [
            "\n",
            "1. Preheat oven to 350 degrees F (175 degrees C). Grease a 9x5 inch loaf pan.\n",
            "2. In a large bowl, mash the bananas with a fork. Add the sugar, oil, and vanilla extract. Mix well.\n",
            "3. In a separate bowl, combine the flour, baking soda, baking powder, and salt. Stir the dry ingredients into the banana mixture.\n",
            "4. Pour the batter into the prepared loaf pan. Bake for 45 minutes, or until a toothpick inserted into the center comes out clean.\n",
            "5. Cool the bread in the pan for 10 minutes, then remove it from the pan and cool completely on a wire rack.\n",
            "6. Store the bread in an air\n"
          ]
        }
      ],
      "source": [
        "prompt = \"You are a helpful assistant. Here is a recipe for vegan banana bread:\\n\"\n",
        "\n",
        "response = mpt_generate(\n",
        "    model,\n",
        "    tokenizer,\n",
        "    prompt,\n",
        "    max_new_tokens=150,\n",
        "    temperature=0.92,\n",
        ")\n",
        "\n",
        "print(response)"
      ]
    },
    {
      "cell_type": "markdown",
      "id": "96ee6bc1-334f-4bc9-acdf-040ad9a532fd",
      "metadata": {
        "id": "96ee6bc1-334f-4bc9-acdf-040ad9a532fd"
      },
      "source": [
        "## Upload model to Hugging Face\n",
        "1. Before running the cells below, create a model on your Hugging Face account. It can be a private or public repo and work with the below code."
      ]
    },
    {
      "cell_type": "code",
      "execution_count": null,
      "id": "62a33af2-2063-483a-ab9c-310859fb3bec",
      "metadata": {
        "id": "62a33af2-2063-483a-ab9c-310859fb3bec"
      },
      "outputs": [],
      "source": [
        "!pip install huggingface_hub"
      ]
    },
    {
      "cell_type": "code",
      "execution_count": null,
      "id": "97391af8-0826-4d0d-ac72-10ea5bcea50e",
      "metadata": {
        "id": "97391af8-0826-4d0d-ac72-10ea5bcea50e"
      },
      "outputs": [],
      "source": [
        "from huggingface_hub import notebook_login\n",
        "\n",
        "notebook_login()"
      ]
    },
    {
      "cell_type": "code",
      "execution_count": null,
      "id": "10a3638a-ea18-4edf-9ff8-73af3b22479a",
      "metadata": {
        "id": "10a3638a-ea18-4edf-9ff8-73af3b22479a"
      },
      "outputs": [],
      "source": [
        "!git config --global credential.helper store"
      ]
    },
    {
      "cell_type": "code",
      "execution_count": null,
      "id": "e1972543-4563-47bf-9950-7dc8551b00db",
      "metadata": {
        "id": "e1972543-4563-47bf-9950-7dc8551b00db"
      },
      "outputs": [],
      "source": [
        "# push to hub\n",
        "model_id_load = \"dfurman/mpt-7b-dolphin\"\n",
        "\n",
        "# tokenizer\n",
        "tokenizer.push_to_hub(model_id_load, use_auth_token=True)\n",
        "# safetensors\n",
        "model.push_to_hub(model_id_load, use_auth_token=True, safe_serialization=True)\n",
        "# torch tensors\n",
        "model.push_to_hub(model_id_load, use_auth_token=True)"
      ]
    },
    {
      "cell_type": "code",
      "execution_count": null,
      "id": "4ba39e00",
      "metadata": {
        "id": "4ba39e00"
      },
      "outputs": [],
      "source": []
    }
  ],
  "metadata": {
    "colab": {
      "gpuType": "T4",
      "machine_shape": "hm",
      "provenance": []
    },
    "interpreter": {
      "hash": "301faebbd5cea7fd4466786a19f1bea9d8baf657aaca95ef39840c46b8697603"
    },
    "kernelspec": {
      "display_name": "Python 3",
      "name": "python3"
    },
    "language_info": {
      "codemirror_mode": {
        "name": "ipython",
        "version": 3
      },
      "file_extension": ".py",
      "mimetype": "text/x-python",
      "name": "python",
      "nbconvert_exporter": "python",
      "pygments_lexer": "ipython3",
      "version": "3.8.10"
    },
    "widgets": {
      "application/vnd.jupyter.widget-state+json": {
        "e748af64bd06402f9f11fb60e63a8267": {
          "model_module": "@jupyter-widgets/controls",
          "model_name": "HBoxModel",
          "model_module_version": "1.5.0",
          "state": {
            "_dom_classes": [],
            "_model_module": "@jupyter-widgets/controls",
            "_model_module_version": "1.5.0",
            "_model_name": "HBoxModel",
            "_view_count": null,
            "_view_module": "@jupyter-widgets/controls",
            "_view_module_version": "1.5.0",
            "_view_name": "HBoxView",
            "box_style": "",
            "children": [
              "IPY_MODEL_ef6208ce870b41fc835651e2de86eafc",
              "IPY_MODEL_b209380f853844bfa6867d9244b97abc",
              "IPY_MODEL_cd2ff35180e5412ebdb953ebd6eeba3b"
            ],
            "layout": "IPY_MODEL_dedca43f72164d0b9f934f6d2239e511"
          }
        },
        "ef6208ce870b41fc835651e2de86eafc": {
          "model_module": "@jupyter-widgets/controls",
          "model_name": "HTMLModel",
          "model_module_version": "1.5.0",
          "state": {
            "_dom_classes": [],
            "_model_module": "@jupyter-widgets/controls",
            "_model_module_version": "1.5.0",
            "_model_name": "HTMLModel",
            "_view_count": null,
            "_view_module": "@jupyter-widgets/controls",
            "_view_module_version": "1.5.0",
            "_view_name": "HTMLView",
            "description": "",
            "description_tooltip": null,
            "layout": "IPY_MODEL_68a0e1fb567542ba8e052f4edb8b7738",
            "placeholder": "​",
            "style": "IPY_MODEL_614dadd1ccc347d296d1165abf1ca95a",
            "value": "Downloading shards: 100%"
          }
        },
        "b209380f853844bfa6867d9244b97abc": {
          "model_module": "@jupyter-widgets/controls",
          "model_name": "FloatProgressModel",
          "model_module_version": "1.5.0",
          "state": {
            "_dom_classes": [],
            "_model_module": "@jupyter-widgets/controls",
            "_model_module_version": "1.5.0",
            "_model_name": "FloatProgressModel",
            "_view_count": null,
            "_view_module": "@jupyter-widgets/controls",
            "_view_module_version": "1.5.0",
            "_view_name": "ProgressView",
            "bar_style": "success",
            "description": "",
            "description_tooltip": null,
            "layout": "IPY_MODEL_67b52eef660a494fbfd0caa49c0aa53f",
            "max": 2,
            "min": 0,
            "orientation": "horizontal",
            "style": "IPY_MODEL_03fc28dd86384016ba37e7d30de9bb38",
            "value": 2
          }
        },
        "cd2ff35180e5412ebdb953ebd6eeba3b": {
          "model_module": "@jupyter-widgets/controls",
          "model_name": "HTMLModel",
          "model_module_version": "1.5.0",
          "state": {
            "_dom_classes": [],
            "_model_module": "@jupyter-widgets/controls",
            "_model_module_version": "1.5.0",
            "_model_name": "HTMLModel",
            "_view_count": null,
            "_view_module": "@jupyter-widgets/controls",
            "_view_module_version": "1.5.0",
            "_view_name": "HTMLView",
            "description": "",
            "description_tooltip": null,
            "layout": "IPY_MODEL_2efa5fcabe034c14afda48116298ec15",
            "placeholder": "​",
            "style": "IPY_MODEL_f1126870ed594add951eac2da85aadca",
            "value": " 2/2 [00:00&lt;00:00,  9.67it/s]"
          }
        },
        "dedca43f72164d0b9f934f6d2239e511": {
          "model_module": "@jupyter-widgets/base",
          "model_name": "LayoutModel",
          "model_module_version": "1.2.0",
          "state": {
            "_model_module": "@jupyter-widgets/base",
            "_model_module_version": "1.2.0",
            "_model_name": "LayoutModel",
            "_view_count": null,
            "_view_module": "@jupyter-widgets/base",
            "_view_module_version": "1.2.0",
            "_view_name": "LayoutView",
            "align_content": null,
            "align_items": null,
            "align_self": null,
            "border": null,
            "bottom": null,
            "display": null,
            "flex": null,
            "flex_flow": null,
            "grid_area": null,
            "grid_auto_columns": null,
            "grid_auto_flow": null,
            "grid_auto_rows": null,
            "grid_column": null,
            "grid_gap": null,
            "grid_row": null,
            "grid_template_areas": null,
            "grid_template_columns": null,
            "grid_template_rows": null,
            "height": null,
            "justify_content": null,
            "justify_items": null,
            "left": null,
            "margin": null,
            "max_height": null,
            "max_width": null,
            "min_height": null,
            "min_width": null,
            "object_fit": null,
            "object_position": null,
            "order": null,
            "overflow": null,
            "overflow_x": null,
            "overflow_y": null,
            "padding": null,
            "right": null,
            "top": null,
            "visibility": null,
            "width": null
          }
        },
        "68a0e1fb567542ba8e052f4edb8b7738": {
          "model_module": "@jupyter-widgets/base",
          "model_name": "LayoutModel",
          "model_module_version": "1.2.0",
          "state": {
            "_model_module": "@jupyter-widgets/base",
            "_model_module_version": "1.2.0",
            "_model_name": "LayoutModel",
            "_view_count": null,
            "_view_module": "@jupyter-widgets/base",
            "_view_module_version": "1.2.0",
            "_view_name": "LayoutView",
            "align_content": null,
            "align_items": null,
            "align_self": null,
            "border": null,
            "bottom": null,
            "display": null,
            "flex": null,
            "flex_flow": null,
            "grid_area": null,
            "grid_auto_columns": null,
            "grid_auto_flow": null,
            "grid_auto_rows": null,
            "grid_column": null,
            "grid_gap": null,
            "grid_row": null,
            "grid_template_areas": null,
            "grid_template_columns": null,
            "grid_template_rows": null,
            "height": null,
            "justify_content": null,
            "justify_items": null,
            "left": null,
            "margin": null,
            "max_height": null,
            "max_width": null,
            "min_height": null,
            "min_width": null,
            "object_fit": null,
            "object_position": null,
            "order": null,
            "overflow": null,
            "overflow_x": null,
            "overflow_y": null,
            "padding": null,
            "right": null,
            "top": null,
            "visibility": null,
            "width": null
          }
        },
        "614dadd1ccc347d296d1165abf1ca95a": {
          "model_module": "@jupyter-widgets/controls",
          "model_name": "DescriptionStyleModel",
          "model_module_version": "1.5.0",
          "state": {
            "_model_module": "@jupyter-widgets/controls",
            "_model_module_version": "1.5.0",
            "_model_name": "DescriptionStyleModel",
            "_view_count": null,
            "_view_module": "@jupyter-widgets/base",
            "_view_module_version": "1.2.0",
            "_view_name": "StyleView",
            "description_width": ""
          }
        },
        "67b52eef660a494fbfd0caa49c0aa53f": {
          "model_module": "@jupyter-widgets/base",
          "model_name": "LayoutModel",
          "model_module_version": "1.2.0",
          "state": {
            "_model_module": "@jupyter-widgets/base",
            "_model_module_version": "1.2.0",
            "_model_name": "LayoutModel",
            "_view_count": null,
            "_view_module": "@jupyter-widgets/base",
            "_view_module_version": "1.2.0",
            "_view_name": "LayoutView",
            "align_content": null,
            "align_items": null,
            "align_self": null,
            "border": null,
            "bottom": null,
            "display": null,
            "flex": null,
            "flex_flow": null,
            "grid_area": null,
            "grid_auto_columns": null,
            "grid_auto_flow": null,
            "grid_auto_rows": null,
            "grid_column": null,
            "grid_gap": null,
            "grid_row": null,
            "grid_template_areas": null,
            "grid_template_columns": null,
            "grid_template_rows": null,
            "height": null,
            "justify_content": null,
            "justify_items": null,
            "left": null,
            "margin": null,
            "max_height": null,
            "max_width": null,
            "min_height": null,
            "min_width": null,
            "object_fit": null,
            "object_position": null,
            "order": null,
            "overflow": null,
            "overflow_x": null,
            "overflow_y": null,
            "padding": null,
            "right": null,
            "top": null,
            "visibility": null,
            "width": null
          }
        },
        "03fc28dd86384016ba37e7d30de9bb38": {
          "model_module": "@jupyter-widgets/controls",
          "model_name": "ProgressStyleModel",
          "model_module_version": "1.5.0",
          "state": {
            "_model_module": "@jupyter-widgets/controls",
            "_model_module_version": "1.5.0",
            "_model_name": "ProgressStyleModel",
            "_view_count": null,
            "_view_module": "@jupyter-widgets/base",
            "_view_module_version": "1.2.0",
            "_view_name": "StyleView",
            "bar_color": null,
            "description_width": ""
          }
        },
        "2efa5fcabe034c14afda48116298ec15": {
          "model_module": "@jupyter-widgets/base",
          "model_name": "LayoutModel",
          "model_module_version": "1.2.0",
          "state": {
            "_model_module": "@jupyter-widgets/base",
            "_model_module_version": "1.2.0",
            "_model_name": "LayoutModel",
            "_view_count": null,
            "_view_module": "@jupyter-widgets/base",
            "_view_module_version": "1.2.0",
            "_view_name": "LayoutView",
            "align_content": null,
            "align_items": null,
            "align_self": null,
            "border": null,
            "bottom": null,
            "display": null,
            "flex": null,
            "flex_flow": null,
            "grid_area": null,
            "grid_auto_columns": null,
            "grid_auto_flow": null,
            "grid_auto_rows": null,
            "grid_column": null,
            "grid_gap": null,
            "grid_row": null,
            "grid_template_areas": null,
            "grid_template_columns": null,
            "grid_template_rows": null,
            "height": null,
            "justify_content": null,
            "justify_items": null,
            "left": null,
            "margin": null,
            "max_height": null,
            "max_width": null,
            "min_height": null,
            "min_width": null,
            "object_fit": null,
            "object_position": null,
            "order": null,
            "overflow": null,
            "overflow_x": null,
            "overflow_y": null,
            "padding": null,
            "right": null,
            "top": null,
            "visibility": null,
            "width": null
          }
        },
        "f1126870ed594add951eac2da85aadca": {
          "model_module": "@jupyter-widgets/controls",
          "model_name": "DescriptionStyleModel",
          "model_module_version": "1.5.0",
          "state": {
            "_model_module": "@jupyter-widgets/controls",
            "_model_module_version": "1.5.0",
            "_model_name": "DescriptionStyleModel",
            "_view_count": null,
            "_view_module": "@jupyter-widgets/base",
            "_view_module_version": "1.2.0",
            "_view_name": "StyleView",
            "description_width": ""
          }
        },
        "f713327029684d4da2e38900f2df327e": {
          "model_module": "@jupyter-widgets/controls",
          "model_name": "HBoxModel",
          "model_module_version": "1.5.0",
          "state": {
            "_dom_classes": [],
            "_model_module": "@jupyter-widgets/controls",
            "_model_module_version": "1.5.0",
            "_model_name": "HBoxModel",
            "_view_count": null,
            "_view_module": "@jupyter-widgets/controls",
            "_view_module_version": "1.5.0",
            "_view_name": "HBoxView",
            "box_style": "",
            "children": [
              "IPY_MODEL_f3288d27316e4834b5496907e010da00",
              "IPY_MODEL_6b014b1f6b5f4ca89739a7a4bfc51970",
              "IPY_MODEL_f98d6fac682243d4a29bd97b07d0af81"
            ],
            "layout": "IPY_MODEL_7eb9754abaf6419ca34660e77aec6190"
          }
        },
        "f3288d27316e4834b5496907e010da00": {
          "model_module": "@jupyter-widgets/controls",
          "model_name": "HTMLModel",
          "model_module_version": "1.5.0",
          "state": {
            "_dom_classes": [],
            "_model_module": "@jupyter-widgets/controls",
            "_model_module_version": "1.5.0",
            "_model_name": "HTMLModel",
            "_view_count": null,
            "_view_module": "@jupyter-widgets/controls",
            "_view_module_version": "1.5.0",
            "_view_name": "HTMLView",
            "description": "",
            "description_tooltip": null,
            "layout": "IPY_MODEL_51e2d8baad4b4e0a8aaf11f715bd8508",
            "placeholder": "​",
            "style": "IPY_MODEL_bd8fd9169ba44e61a0498d6211b29812",
            "value": "Loading checkpoint shards: 100%"
          }
        },
        "6b014b1f6b5f4ca89739a7a4bfc51970": {
          "model_module": "@jupyter-widgets/controls",
          "model_name": "FloatProgressModel",
          "model_module_version": "1.5.0",
          "state": {
            "_dom_classes": [],
            "_model_module": "@jupyter-widgets/controls",
            "_model_module_version": "1.5.0",
            "_model_name": "FloatProgressModel",
            "_view_count": null,
            "_view_module": "@jupyter-widgets/controls",
            "_view_module_version": "1.5.0",
            "_view_name": "ProgressView",
            "bar_style": "success",
            "description": "",
            "description_tooltip": null,
            "layout": "IPY_MODEL_7e389f5367ed4e2f8dc895ecb7f60ecf",
            "max": 2,
            "min": 0,
            "orientation": "horizontal",
            "style": "IPY_MODEL_45e6ef92644a41c5ac455908868ee543",
            "value": 2
          }
        },
        "f98d6fac682243d4a29bd97b07d0af81": {
          "model_module": "@jupyter-widgets/controls",
          "model_name": "HTMLModel",
          "model_module_version": "1.5.0",
          "state": {
            "_dom_classes": [],
            "_model_module": "@jupyter-widgets/controls",
            "_model_module_version": "1.5.0",
            "_model_name": "HTMLModel",
            "_view_count": null,
            "_view_module": "@jupyter-widgets/controls",
            "_view_module_version": "1.5.0",
            "_view_name": "HTMLView",
            "description": "",
            "description_tooltip": null,
            "layout": "IPY_MODEL_0d919bc90f7b4cd483076af558536152",
            "placeholder": "​",
            "style": "IPY_MODEL_b08f891c70bf4dc69e700a276adcf8a1",
            "value": " 2/2 [01:03&lt;00:00, 28.88s/it]"
          }
        },
        "7eb9754abaf6419ca34660e77aec6190": {
          "model_module": "@jupyter-widgets/base",
          "model_name": "LayoutModel",
          "model_module_version": "1.2.0",
          "state": {
            "_model_module": "@jupyter-widgets/base",
            "_model_module_version": "1.2.0",
            "_model_name": "LayoutModel",
            "_view_count": null,
            "_view_module": "@jupyter-widgets/base",
            "_view_module_version": "1.2.0",
            "_view_name": "LayoutView",
            "align_content": null,
            "align_items": null,
            "align_self": null,
            "border": null,
            "bottom": null,
            "display": null,
            "flex": null,
            "flex_flow": null,
            "grid_area": null,
            "grid_auto_columns": null,
            "grid_auto_flow": null,
            "grid_auto_rows": null,
            "grid_column": null,
            "grid_gap": null,
            "grid_row": null,
            "grid_template_areas": null,
            "grid_template_columns": null,
            "grid_template_rows": null,
            "height": null,
            "justify_content": null,
            "justify_items": null,
            "left": null,
            "margin": null,
            "max_height": null,
            "max_width": null,
            "min_height": null,
            "min_width": null,
            "object_fit": null,
            "object_position": null,
            "order": null,
            "overflow": null,
            "overflow_x": null,
            "overflow_y": null,
            "padding": null,
            "right": null,
            "top": null,
            "visibility": null,
            "width": null
          }
        },
        "51e2d8baad4b4e0a8aaf11f715bd8508": {
          "model_module": "@jupyter-widgets/base",
          "model_name": "LayoutModel",
          "model_module_version": "1.2.0",
          "state": {
            "_model_module": "@jupyter-widgets/base",
            "_model_module_version": "1.2.0",
            "_model_name": "LayoutModel",
            "_view_count": null,
            "_view_module": "@jupyter-widgets/base",
            "_view_module_version": "1.2.0",
            "_view_name": "LayoutView",
            "align_content": null,
            "align_items": null,
            "align_self": null,
            "border": null,
            "bottom": null,
            "display": null,
            "flex": null,
            "flex_flow": null,
            "grid_area": null,
            "grid_auto_columns": null,
            "grid_auto_flow": null,
            "grid_auto_rows": null,
            "grid_column": null,
            "grid_gap": null,
            "grid_row": null,
            "grid_template_areas": null,
            "grid_template_columns": null,
            "grid_template_rows": null,
            "height": null,
            "justify_content": null,
            "justify_items": null,
            "left": null,
            "margin": null,
            "max_height": null,
            "max_width": null,
            "min_height": null,
            "min_width": null,
            "object_fit": null,
            "object_position": null,
            "order": null,
            "overflow": null,
            "overflow_x": null,
            "overflow_y": null,
            "padding": null,
            "right": null,
            "top": null,
            "visibility": null,
            "width": null
          }
        },
        "bd8fd9169ba44e61a0498d6211b29812": {
          "model_module": "@jupyter-widgets/controls",
          "model_name": "DescriptionStyleModel",
          "model_module_version": "1.5.0",
          "state": {
            "_model_module": "@jupyter-widgets/controls",
            "_model_module_version": "1.5.0",
            "_model_name": "DescriptionStyleModel",
            "_view_count": null,
            "_view_module": "@jupyter-widgets/base",
            "_view_module_version": "1.2.0",
            "_view_name": "StyleView",
            "description_width": ""
          }
        },
        "7e389f5367ed4e2f8dc895ecb7f60ecf": {
          "model_module": "@jupyter-widgets/base",
          "model_name": "LayoutModel",
          "model_module_version": "1.2.0",
          "state": {
            "_model_module": "@jupyter-widgets/base",
            "_model_module_version": "1.2.0",
            "_model_name": "LayoutModel",
            "_view_count": null,
            "_view_module": "@jupyter-widgets/base",
            "_view_module_version": "1.2.0",
            "_view_name": "LayoutView",
            "align_content": null,
            "align_items": null,
            "align_self": null,
            "border": null,
            "bottom": null,
            "display": null,
            "flex": null,
            "flex_flow": null,
            "grid_area": null,
            "grid_auto_columns": null,
            "grid_auto_flow": null,
            "grid_auto_rows": null,
            "grid_column": null,
            "grid_gap": null,
            "grid_row": null,
            "grid_template_areas": null,
            "grid_template_columns": null,
            "grid_template_rows": null,
            "height": null,
            "justify_content": null,
            "justify_items": null,
            "left": null,
            "margin": null,
            "max_height": null,
            "max_width": null,
            "min_height": null,
            "min_width": null,
            "object_fit": null,
            "object_position": null,
            "order": null,
            "overflow": null,
            "overflow_x": null,
            "overflow_y": null,
            "padding": null,
            "right": null,
            "top": null,
            "visibility": null,
            "width": null
          }
        },
        "45e6ef92644a41c5ac455908868ee543": {
          "model_module": "@jupyter-widgets/controls",
          "model_name": "ProgressStyleModel",
          "model_module_version": "1.5.0",
          "state": {
            "_model_module": "@jupyter-widgets/controls",
            "_model_module_version": "1.5.0",
            "_model_name": "ProgressStyleModel",
            "_view_count": null,
            "_view_module": "@jupyter-widgets/base",
            "_view_module_version": "1.2.0",
            "_view_name": "StyleView",
            "bar_color": null,
            "description_width": ""
          }
        },
        "0d919bc90f7b4cd483076af558536152": {
          "model_module": "@jupyter-widgets/base",
          "model_name": "LayoutModel",
          "model_module_version": "1.2.0",
          "state": {
            "_model_module": "@jupyter-widgets/base",
            "_model_module_version": "1.2.0",
            "_model_name": "LayoutModel",
            "_view_count": null,
            "_view_module": "@jupyter-widgets/base",
            "_view_module_version": "1.2.0",
            "_view_name": "LayoutView",
            "align_content": null,
            "align_items": null,
            "align_self": null,
            "border": null,
            "bottom": null,
            "display": null,
            "flex": null,
            "flex_flow": null,
            "grid_area": null,
            "grid_auto_columns": null,
            "grid_auto_flow": null,
            "grid_auto_rows": null,
            "grid_column": null,
            "grid_gap": null,
            "grid_row": null,
            "grid_template_areas": null,
            "grid_template_columns": null,
            "grid_template_rows": null,
            "height": null,
            "justify_content": null,
            "justify_items": null,
            "left": null,
            "margin": null,
            "max_height": null,
            "max_width": null,
            "min_height": null,
            "min_width": null,
            "object_fit": null,
            "object_position": null,
            "order": null,
            "overflow": null,
            "overflow_x": null,
            "overflow_y": null,
            "padding": null,
            "right": null,
            "top": null,
            "visibility": null,
            "width": null
          }
        },
        "b08f891c70bf4dc69e700a276adcf8a1": {
          "model_module": "@jupyter-widgets/controls",
          "model_name": "DescriptionStyleModel",
          "model_module_version": "1.5.0",
          "state": {
            "_model_module": "@jupyter-widgets/controls",
            "_model_module_version": "1.5.0",
            "_model_name": "DescriptionStyleModel",
            "_view_count": null,
            "_view_module": "@jupyter-widgets/base",
            "_view_module_version": "1.2.0",
            "_view_name": "StyleView",
            "description_width": ""
          }
        }
      }
    },
    "accelerator": "GPU"
  },
  "nbformat": 4,
  "nbformat_minor": 5
}