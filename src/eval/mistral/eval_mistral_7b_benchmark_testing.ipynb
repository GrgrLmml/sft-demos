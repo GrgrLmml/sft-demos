{
 "cells": [
  {
   "cell_type": "markdown",
   "metadata": {
    "id": "s1xszHqdIieh"
   },
   "source": [
    "# Mistral 7B LM Eval Testing\n",
    "\n",
    "Code to evaluate three variants of a Mistral-7B on the Open LLM Leaderboard eval."
   ]
  },
  {
   "cell_type": "code",
   "execution_count": 1,
   "metadata": {
    "id": "uAsu08nhIzu1",
    "colab": {
     "base_uri": "https://localhost:8080/"
    },
    "outputId": "2582d98b-ff9f-4065-a78f-16d50c783b01"
   },
   "outputs": [
    {
     "output_type": "stream",
     "name": "stdout",
     "text": [
      "nvcc: NVIDIA (R) Cuda compiler driver\n",
      "Copyright (c) 2005-2023 NVIDIA Corporation\n",
      "Built on Tue_Aug_15_22:02:13_PDT_2023\n",
      "Cuda compilation tools, release 12.2, V12.2.140\n",
      "Build cuda_12.2.r12.2/compiler.33191640_0\n"
     ]
    }
   ],
   "source": [
    "!nvcc --version"
   ]
  },
  {
   "cell_type": "code",
   "execution_count": 2,
   "metadata": {
    "id": "nUhy3WQIIzD4",
    "colab": {
     "base_uri": "https://localhost:8080/"
    },
    "outputId": "a712c222-8275-4ce7-9964-d5347543c065"
   },
   "outputs": [
    {
     "output_type": "stream",
     "name": "stdout",
     "text": [
      "Wed Dec 27 01:06:53 2023       \n",
      "+---------------------------------------------------------------------------------------+\n",
      "| NVIDIA-SMI 535.104.05             Driver Version: 535.104.05   CUDA Version: 12.2     |\n",
      "|-----------------------------------------+----------------------+----------------------+\n",
      "| GPU  Name                 Persistence-M | Bus-Id        Disp.A | Volatile Uncorr. ECC |\n",
      "| Fan  Temp   Perf          Pwr:Usage/Cap |         Memory-Usage | GPU-Util  Compute M. |\n",
      "|                                         |                      |               MIG M. |\n",
      "|=========================================+======================+======================|\n",
      "|   0  NVIDIA A100-SXM4-40GB          Off | 00000000:00:04.0 Off |                    0 |\n",
      "| N/A   32C    P0              52W / 400W |      2MiB / 40960MiB |      0%      Default |\n",
      "|                                         |                      |             Disabled |\n",
      "+-----------------------------------------+----------------------+----------------------+\n",
      "                                                                                         \n",
      "+---------------------------------------------------------------------------------------+\n",
      "| Processes:                                                                            |\n",
      "|  GPU   GI   CI        PID   Type   Process name                            GPU Memory |\n",
      "|        ID   ID                                                             Usage      |\n",
      "|=======================================================================================|\n",
      "|  No running processes found                                                           |\n",
      "+---------------------------------------------------------------------------------------+\n"
     ]
    }
   ],
   "source": [
    "!nvidia-smi"
   ]
  },
  {
   "cell_type": "code",
   "execution_count": null,
   "metadata": {
    "id": "Zfjv9nzQSyZ0",
    "colab": {
     "base_uri": "https://localhost:8080/"
    },
    "outputId": "be1793e1-6355-4812-b7ad-3a5b5cb7cf72"
   },
   "outputs": [
    {
     "output_type": "stream",
     "name": "stdout",
     "text": [
      "\u001b[2K     \u001b[90m━━━━━━━━━━━━━━━━━━━━━━━━━━━━━━━━━━━━━━━━\u001b[0m \u001b[32m8.2/8.2 MB\u001b[0m \u001b[31m53.6 MB/s\u001b[0m eta \u001b[36m0:00:00\u001b[0m\n",
      "\u001b[2K     \u001b[90m━━━━━━━━━━━━━━━━━━━━━━━━━━━━━━━━━━━━━━━━\u001b[0m \u001b[32m168.3/168.3 kB\u001b[0m \u001b[31m22.4 MB/s\u001b[0m eta \u001b[36m0:00:00\u001b[0m\n",
      "\u001b[2K     \u001b[90m━━━━━━━━━━━━━━━━━━━━━━━━━━━━━━━━━━━━━━━━\u001b[0m \u001b[32m670.2/670.2 MB\u001b[0m \u001b[31m1.5 MB/s\u001b[0m eta \u001b[36m0:00:00\u001b[0m\n",
      "\u001b[2K     \u001b[90m━━━━━━━━━━━━━━━━━━━━━━━━━━━━━━━━━━━━━━━━\u001b[0m \u001b[32m265.7/265.7 kB\u001b[0m \u001b[31m21.5 MB/s\u001b[0m eta \u001b[36m0:00:00\u001b[0m\n",
      "\u001b[2K     \u001b[90m━━━━━━━━━━━━━━━━━━━━━━━━━━━━━━━━━━━━━━━━\u001b[0m \u001b[32m44.6/44.6 kB\u001b[0m \u001b[31m5.4 MB/s\u001b[0m eta \u001b[36m0:00:00\u001b[0m\n",
      "\u001b[2K     \u001b[90m━━━━━━━━━━━━━━━━━━━━━━━━━━━━━━━━━━━━━━━━\u001b[0m \u001b[32m1.3/1.3 MB\u001b[0m \u001b[31m73.3 MB/s\u001b[0m eta \u001b[36m0:00:00\u001b[0m\n",
      "\u001b[2K     \u001b[90m━━━━━━━━━━━━━━━━━━━━━━━━━━━━━━━━━━━━━━━━\u001b[0m \u001b[32m92.6/92.6 MB\u001b[0m \u001b[31m17.6 MB/s\u001b[0m eta \u001b[36m0:00:00\u001b[0m\n",
      "\u001b[2K     \u001b[90m━━━━━━━━━━━━━━━━━━━━━━━━━━━━━━━━━━━━━━━━\u001b[0m \u001b[32m23.7/23.7 MB\u001b[0m \u001b[31m37.7 MB/s\u001b[0m eta \u001b[36m0:00:00\u001b[0m\n",
      "\u001b[2K     \u001b[90m━━━━━━━━━━━━━━━━━━━━━━━━━━━━━━━━━━━━━━━━\u001b[0m \u001b[32m823.6/823.6 kB\u001b[0m \u001b[31m68.8 MB/s\u001b[0m eta \u001b[36m0:00:00\u001b[0m\n",
      "\u001b[2K     \u001b[90m━━━━━━━━━━━━━━━━━━━━━━━━━━━━━━━━━━━━━━━━\u001b[0m \u001b[32m14.1/14.1 MB\u001b[0m \u001b[31m94.8 MB/s\u001b[0m eta \u001b[36m0:00:00\u001b[0m\n",
      "\u001b[2K     \u001b[90m━━━━━━━━━━━━━━━━━━━━━━━━━━━━━━━━━━━━━━━━\u001b[0m \u001b[32m731.7/731.7 MB\u001b[0m \u001b[31m1.6 MB/s\u001b[0m eta \u001b[36m0:00:00\u001b[0m\n",
      "\u001b[2K     \u001b[90m━━━━━━━━━━━━━━━━━━━━━━━━━━━━━━━━━━━━━━━━\u001b[0m \u001b[32m410.6/410.6 MB\u001b[0m \u001b[31m2.3 MB/s\u001b[0m eta \u001b[36m0:00:00\u001b[0m\n",
      "\u001b[2K     \u001b[90m━━━━━━━━━━━━━━━━━━━━━━━━━━━━━━━━━━━━━━━━\u001b[0m \u001b[32m121.6/121.6 MB\u001b[0m \u001b[31m13.4 MB/s\u001b[0m eta \u001b[36m0:00:00\u001b[0m\n",
      "\u001b[2K     \u001b[90m━━━━━━━━━━━━━━━━━━━━━━━━━━━━━━━━━━━━━━━━\u001b[0m \u001b[32m56.5/56.5 MB\u001b[0m \u001b[31m28.4 MB/s\u001b[0m eta \u001b[36m0:00:00\u001b[0m\n",
      "\u001b[2K     \u001b[90m━━━━━━━━━━━━━━━━━━━━━━━━━━━━━━━━━━━━━━━━\u001b[0m \u001b[32m124.2/124.2 MB\u001b[0m \u001b[31m8.8 MB/s\u001b[0m eta \u001b[36m0:00:00\u001b[0m\n",
      "\u001b[2K     \u001b[90m━━━━━━━━━━━━━━━━━━━━━━━━━━━━━━━━━━━━━━━━\u001b[0m \u001b[32m196.0/196.0 MB\u001b[0m \u001b[31m5.8 MB/s\u001b[0m eta \u001b[36m0:00:00\u001b[0m\n",
      "\u001b[2K     \u001b[90m━━━━━━━━━━━━━━━━━━━━━━━━━━━━━━━━━━━━━━━━\u001b[0m \u001b[32m209.8/209.8 MB\u001b[0m \u001b[31m7.8 MB/s\u001b[0m eta \u001b[36m0:00:00\u001b[0m\n",
      "\u001b[2K     \u001b[90m━━━━━━━━━━━━━━━━━━━━━━━━━━━━━━━━━━━━━━━━\u001b[0m \u001b[32m99.1/99.1 kB\u001b[0m \u001b[31m16.1 MB/s\u001b[0m eta \u001b[36m0:00:00\u001b[0m\n",
      "\u001b[2K     \u001b[90m━━━━━━━━━━━━━━━━━━━━━━━━━━━━━━━━━━━━━━━━\u001b[0m \u001b[32m20.5/20.5 MB\u001b[0m \u001b[31m87.6 MB/s\u001b[0m eta \u001b[36m0:00:00\u001b[0m\n",
      "\u001b[?25h"
     ]
    }
   ],
   "source": [
    "!pip install -q -U transformers peft torch accelerate einops sentencepiece bitsandbytes"
   ]
  },
  {
   "cell_type": "code",
   "execution_count": null,
   "metadata": {
    "id": "8Bw1lhjhYhw1"
   },
   "outputs": [],
   "source": [
    "# clone repository\n",
    "!git clone https://github.com/EleutherAI/lm-evaluation-harness.git"
   ]
  },
  {
   "cell_type": "code",
   "execution_count": null,
   "metadata": {
    "id": "oWagqq3cwLgF"
   },
   "outputs": [],
   "source": [
    "# change to repo directory\n",
    "import os\n",
    "\n",
    "os.chdir(\"/content/lm-evaluation-harness\")\n",
    "# install\n",
    "!pip install -e ."
   ]
  },
  {
   "cell_type": "code",
   "execution_count": null,
   "metadata": {
    "id": "QSp37lvCq65V"
   },
   "outputs": [],
   "source": [
    "import datetime\n",
    "\n",
    "now = datetime.datetime.now()\n",
    "now = now.strftime(\"%Y_%m_%d_%H_%M_%S\")\n",
    "\n",
    "os.mkdir(f\"/content/{now}\")\n",
    "os.mkdir(f\"/content/{now}/arc\")\n",
    "os.mkdir(f\"/content/{now}/hellaswag\")\n",
    "os.mkdir(f\"/content/{now}/mmlu\")\n",
    "os.mkdir(f\"/content/{now}/truthfulqa\")\n",
    "os.mkdir(f\"/content/{now}/winogrande\")\n",
    "os.mkdir(f\"/content/{now}/gsm8k\")"
   ]
  },
  {
   "cell_type": "code",
   "execution_count": null,
   "metadata": {
    "id": "RieFKmwdq65V"
   },
   "outputs": [],
   "source": [
    "os.environ[\"now_log_folder\"] = now"
   ]
  },
  {
   "cell_type": "markdown",
   "metadata": {
    "id": "B32ZQxvtIIUt"
   },
   "source": [
    "# arc challenge\n",
    "\n",
    "AI2 Reasoning Challenge (25-shot) - a set of grade-school science questions.\n"
   ]
  },
  {
   "cell_type": "code",
   "execution_count": null,
   "metadata": {
    "id": "KY5ssp_iRu7O"
   },
   "outputs": [],
   "source": [
    "!lm_eval --model hf \\\n",
    "    --model_args pretrained=mistralai/Mistral-7B-Instruct-v0.2,dtype=\"bfloat16\" \\\n",
    "    --tasks arc_challenge \\\n",
    "    --batch_size 16 \\\n",
    "    --write_out \\\n",
    "    --output_path /content/$now_log_folder/arc/arc_challenge_mistralai_Mistral-7B-Instruct-v0.2_lm_eval.json \\\n",
    "    --device cuda:0 \\\n",
    "    --num_fewshot 25 \\\n",
    "    --verbosity DEBUG\n"
   ]
  },
  {
   "cell_type": "markdown",
   "metadata": {
    "id": "mLyNCt57IQ7f"
   },
   "source": [
    "# hellaswag\n",
    "\n",
    "* HellaSwag (10-shot) - a test of commonsense inference, which is easy for humans (~95%) but challenging for SOTA models.\n"
   ]
  },
  {
   "cell_type": "code",
   "source": [
    "!lm_eval --model hf \\\n",
    "    --model_args pretrained=mistralai/Mistral-7B-Instruct-v0.2,dtype=\"bfloat16\" \\\n",
    "    --tasks hellaswag \\\n",
    "    --batch_size 16 \\\n",
    "    --write_out \\\n",
    "    --output_path /content/$now_log_folder/hellaswag/hellaswag_mistralai_Mistral-7B-Instruct-v0.2_lm_eval.json \\\n",
    "    --device cuda:0 \\\n",
    "    --num_fewshot 10 \\\n",
    "    --verbosity DEBUG\n"
   ],
   "metadata": {
    "id": "ylb0Xp_prHCy"
   },
   "execution_count": null,
   "outputs": []
  },
  {
   "cell_type": "markdown",
   "metadata": {
    "id": "h03ywoXsIdM6"
   },
   "source": [
    "## MMLU\n",
    "\n",
    "MMLU (5-shot) - a test to measure a text model's multitask accuracy. The test covers 57 tasks including elementary mathematics, US history, computer science, law, and more.\n"
   ]
  },
  {
   "cell_type": "code",
   "source": [
    "!lm_eval --model hf \\\n",
    "    --model_args pretrained=mistralai/Mistral-7B-Instruct-v0.2,dtype=\"bfloat16\" \\\n",
    "    --tasks mmlu \\\n",
    "    --batch_size 16 \\\n",
    "    --write_out \\\n",
    "    --output_path /content/$now_log_folder/mmlu/mmlu_mistralai_Mistral-7B-Instruct-v0.2_lm_eval.json \\\n",
    "    --device cuda:0 \\\n",
    "    --num_fewshot 5 \\\n",
    "    --verbosity DEBUG\n"
   ],
   "metadata": {
    "id": "UdFcxfa9rQ97"
   },
   "execution_count": null,
   "outputs": []
  },
  {
   "cell_type": "markdown",
   "metadata": {
    "id": "yMZrYPKOLrZz"
   },
   "source": [
    "# TruthfulQA\n",
    "\n",
    "TruthfulQA (0-shot) - a test to measure a model's propensity to reproduce falsehoods commonly found online. Note: TruthfulQA in the Harness is actually a minima a 6-shots task, as it is prepended by 6 examples systematically, even when launched using 0 for the number of few-shot examples."
   ]
  },
  {
   "cell_type": "code",
   "source": [
    "!lm_eval --model hf \\\n",
    "    --model_args pretrained=mistralai/Mistral-7B-Instruct-v0.2,dtype=\"bfloat16\" \\\n",
    "    --tasks truthfulqa_mc2 \\\n",
    "    --batch_size 16 \\\n",
    "    --write_out \\\n",
    "    --output_path /content/$now_log_folder/truthfulqa/truthfulqa_mc2_mistralai_Mistral-7B-Instruct-v0.2_lm_eval.json \\\n",
    "    --device cuda:0 \\\n",
    "    --num_fewshot 0 \\\n",
    "    --verbosity DEBUG\n"
   ],
   "metadata": {
    "id": "SzSg6FlKrjZk"
   },
   "execution_count": null,
   "outputs": []
  },
  {
   "cell_type": "markdown",
   "metadata": {
    "id": "ZzeqfQaqLrff"
   },
   "source": [
    "# Winogrande\n",
    "Winogrande (5-shot) - an adversarial and difficult Winograd benchmark at scale, for commonsense reasoning.\n",
    "\n"
   ]
  },
  {
   "cell_type": "code",
   "source": [
    "!lm_eval --model hf \\\n",
    "    --model_args pretrained=mistralai/Mistral-7B-Instruct-v0.2,dtype=\"bfloat16\" \\\n",
    "    --tasks winogrande \\\n",
    "    --batch_size 16 \\\n",
    "    --write_out \\\n",
    "    --output_path /content/$now_log_folder/winogrande/winogrande_mistralai_Mistral-7B-Instruct-v0.2_lm_eval.json \\\n",
    "    --device cuda:0 \\\n",
    "    --num_fewshot 5 \\\n",
    "    --verbosity DEBUG\n"
   ],
   "metadata": {
    "id": "LduQR_dKr31q"
   },
   "execution_count": null,
   "outputs": []
  },
  {
   "cell_type": "markdown",
   "metadata": {
    "id": "yLWIv0jJLynA"
   },
   "source": [
    "# GSM8k\n",
    "\n",
    "GSM8k (5-shot) - diverse grade school math word problems to measure a model's ability to solve multi-step mathematical reasoning problems."
   ]
  },
  {
   "cell_type": "code",
   "source": [
    "\n",
    "!lm_eval --model hf \\\n",
    "    --model_args pretrained=mistralai/Mistral-7B-Instruct-v0.2,dtype=\"bfloat16\" \\\n",
    "    --tasks gsm8k \\\n",
    "    --batch_size 16 \\\n",
    "    --write_out \\\n",
    "    --output_path /content/$now_log_folder/gsm8k/gsm8k_mistralai_Mistral-7B-Instruct-v0.2_lm_eval.json \\\n",
    "    --device cuda:0 \\\n",
    "    --num_fewshot 5 \\\n",
    "    --verbosity DEBUG\n"
   ],
   "metadata": {
    "id": "hVWrx61vrk_I"
   },
   "execution_count": null,
   "outputs": []
  },
  {
   "cell_type": "markdown",
   "source": [
    "# Zip Results"
   ],
   "metadata": {
    "id": "t66XpVTIzuHt"
   }
  },
  {
   "cell_type": "code",
   "source": [
    "!zip"
   ],
   "metadata": {
    "id": "KjVi9CKBzw50"
   },
   "execution_count": null,
   "outputs": []
  },
  {
   "cell_type": "markdown",
   "source": [
    "# Task List"
   ],
   "metadata": {
    "id": "9ZrKoTc0rlIP"
   }
  },
  {
   "cell_type": "code",
   "execution_count": null,
   "metadata": {
    "id": "onoPU1Cmk5EF"
   },
   "outputs": [],
   "source": [
    "!lm-eval --tasks list"
   ]
  }
 ],
 "metadata": {
  "accelerator": "GPU",
  "colab": {
   "gpuType": "A100",
   "machine_shape": "hm",
   "provenance": []
  },
  "kernelspec": {
   "display_name": "Python 3",
   "name": "python3"
  },
  "language_info": {
   "codemirror_mode": {
    "name": "ipython",
    "version": 3
   },
   "file_extension": ".py",
   "mimetype": "text/x-python",
   "name": "python",
   "nbconvert_exporter": "python",
   "pygments_lexer": "ipython3",
   "version": "3.8.8"
  }
 },
 "nbformat": 4,
 "nbformat_minor": 0
}