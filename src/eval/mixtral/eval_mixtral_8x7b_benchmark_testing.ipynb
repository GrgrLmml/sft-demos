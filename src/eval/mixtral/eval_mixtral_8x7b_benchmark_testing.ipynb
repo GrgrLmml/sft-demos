{
 "cells": [
  {
   "cell_type": "markdown",
   "metadata": {
    "id": "s1xszHqdIieh"
   },
   "source": [
    "# Mixtral 8x7B LM Eval Testing\n",
    "\n",
    "Code to evaluate three variants of a Mistral-7B on the Open LLM Leaderboard eval."
   ]
  },
  {
   "cell_type": "code",
   "execution_count": null,
   "metadata": {
    "colab": {
     "base_uri": "https://localhost:8080/"
    },
    "id": "uAsu08nhIzu1",
    "outputId": "e8529cae-3343-4a32-8deb-be3eeac4759d"
   },
   "outputs": [],
   "source": [
    "!nvcc --version"
   ]
  },
  {
   "cell_type": "code",
   "execution_count": null,
   "metadata": {
    "colab": {
     "base_uri": "https://localhost:8080/"
    },
    "id": "nUhy3WQIIzD4",
    "outputId": "a4892263-f127-45cd-8567-8b1e327153da"
   },
   "outputs": [],
   "source": [
    "!nvidia-smi"
   ]
  },
  {
   "cell_type": "code",
   "execution_count": null,
   "metadata": {
    "colab": {
     "base_uri": "https://localhost:8080/"
    },
    "id": "Zfjv9nzQSyZ0",
    "outputId": "41d897de-d314-47fb-e44f-47543aaaa2f9"
   },
   "outputs": [],
   "source": [
    "!pip install -q -U transformers peft torch accelerate einops sentencepiece bitsandbytes"
   ]
  },
  {
   "cell_type": "code",
   "execution_count": null,
   "metadata": {
    "colab": {
     "base_uri": "https://localhost:8080/"
    },
    "id": "JmH_vRXXylCW",
    "outputId": "a566174b-6422-4925-a5b2-c7c5de8b224f"
   },
   "outputs": [],
   "source": [
    "# clone repository\n",
    "!git clone https://github.com/EleutherAI/lm-evaluation-harness.git"
   ]
  },
  {
   "cell_type": "code",
   "execution_count": null,
   "metadata": {
    "id": "YscQplI9fVVB"
   },
   "outputs": [],
   "source": [
    "# change to repo directory\n",
    "import os\n",
    "\n",
    "os.chdir(\"/content/lm-evaluation-harness\")"
   ]
  },
  {
   "cell_type": "code",
   "execution_count": null,
   "metadata": {
    "colab": {
     "base_uri": "https://localhost:8080/"
    },
    "id": "oWagqq3cwLgF",
    "outputId": "606b98c4-6d47-4ee4-b8c7-ea441589c658"
   },
   "outputs": [],
   "source": [
    "# install\n",
    "!pip install -e ."
   ]
  },
  {
   "cell_type": "code",
   "execution_count": null,
   "metadata": {
    "id": "QSp37lvCq65V"
   },
   "outputs": [],
   "source": [
    "import datetime\n",
    "\n",
    "now = datetime.datetime.now()\n",
    "now = now.strftime(\"%Y_%m_%d_%H_%M_%S\")\n",
    "\n",
    "os.mkdir(f\"/content/{now}\")\n",
    "os.mkdir(f\"/content/{now}/arc\")\n",
    "os.mkdir(f\"/content/{now}/hellaswag\")\n",
    "os.mkdir(f\"/content/{now}/mmlu\")\n",
    "os.mkdir(f\"/content/{now}/truthfulqa\")\n",
    "os.mkdir(f\"/content/{now}/winogrande\")\n",
    "os.mkdir(f\"/content/{now}/gsm8k\")"
   ]
  },
  {
   "cell_type": "code",
   "execution_count": null,
   "metadata": {
    "id": "RieFKmwdq65V"
   },
   "outputs": [],
   "source": [
    "os.environ[\"now_log_folder\"] = now"
   ]
  },
  {
   "cell_type": "code",
   "execution_count": null,
   "metadata": {
    "colab": {
     "base_uri": "https://localhost:8080/",
     "height": 35
    },
    "id": "DqqAH2CbvrCd",
    "outputId": "96f28b08-4973-4f30-c728-644107be6852"
   },
   "outputs": [],
   "source": [
    "os.environ[\"now_log_folder\"]"
   ]
  },
  {
   "cell_type": "markdown",
   "metadata": {
    "id": "B32ZQxvtIIUt"
   },
   "source": [
    "# arc challenge\n",
    "\n",
    "AI2 Reasoning Challenge (25-shot) - a set of grade-school science questions.\n"
   ]
  },
  {
   "cell_type": "code",
   "execution_count": null,
   "metadata": {
    "colab": {
     "background_save": true,
     "base_uri": "https://localhost:8080/"
    },
    "id": "FJP-iZGSvuAO",
    "outputId": "01ea3034-d95f-4a30-b080-fac3ee7b92bb"
   },
   "outputs": [],
   "source": [
    "!lm_eval --model=hf \\\n",
    "    --model_args=pretrained=mistralai/Mixtral-8x7B-v0.1,dtype=\"bfloat16\",peft=dfurman/Mixtral-8x7B-Instruct-v0.1,load_in_4bit=True \\\n",
    "    --tasks arc_challenge \\\n",
    "    --num_fewshot 25 \\\n",
    "    --batch_size 8 \\\n",
    "    --device cuda:0 \\\n",
    "    --output_path /content/$now_log_folder/arc/arc_challenge_formatted_lm_eval.json"
   ]
  },
  {
   "cell_type": "code",
   "execution_count": null,
   "metadata": {
    "colab": {
     "background_save": true
    },
    "id": "KY5ssp_iRu7O"
   },
   "outputs": [],
   "source": [
    "#!lm_eval --model hf \\\n",
    "#    --model_args pretrained=mistralai/Mixtral-8x7B-v0.1,dtype=\"bfloat16\",peft=dfurman/Mixtral-8x7B-Instruct-v0.1,load_in_4bit=True \\\n",
    "#    --tasks arc_challenge \\\n",
    "#    --batch_size 8 \\\n",
    "#    --write_out \\\n",
    "#    --output_path /content/$now_log_folder/arc/arc_challenge_formatted_lm_eval.json \\\n",
    "#    --device cuda:0 \\\n",
    "#    --num_fewshot 25 \\\n",
    "#    --verbosity DEBUG"
   ]
  },
  {
   "cell_type": "markdown",
   "metadata": {
    "id": "mLyNCt57IQ7f"
   },
   "source": [
    "# hellaswag\n",
    "\n",
    "* HellaSwag (10-shot) - a test of commonsense inference, which is easy for humans (~95%) but challenging for SOTA models.\n"
   ]
  },
  {
   "cell_type": "code",
   "execution_count": null,
   "metadata": {
    "colab": {
     "background_save": true,
     "base_uri": "https://localhost:8080/"
    },
    "id": "4MKaT2hkXyLk",
    "outputId": "6e41d90d-b059-416d-96a1-7382b8fad7e0"
   },
   "outputs": [],
   "source": [
    "!lm_eval --model hf \\\n",
    "    --model_args pretrained=mistralai/Mixtral-8x7B-v0.1,dtype=\"bfloat16\",peft=dfurman/Mixtral-8x7B-Instruct-v0.1,load_in_4bit=True \\\n",
    "    --tasks hellaswag \\\n",
    "    --batch_size 8 \\\n",
    "    --output_path /content/$now_log_folder/hellaswag/hellaswag_mistralai_lm_eval.json \\\n",
    "    --device cuda:0 \\\n",
    "    --num_fewshot 10"
   ]
  },
  {
   "cell_type": "markdown",
   "metadata": {
    "id": "h03ywoXsIdM6"
   },
   "source": [
    "# MMLU\n",
    "\n",
    "MMLU (5-shot) - a test to measure a text model's multitask accuracy. The test covers 57 tasks including elementary mathematics, US history, computer science, law, and more.\n"
   ]
  },
  {
   "cell_type": "code",
   "execution_count": null,
   "metadata": {
    "colab": {
     "background_save": true
    },
    "id": "VGxWaVMFX41t",
    "outputId": "ba4371d5-746e-4000-e92e-37ae03881d19"
   },
   "outputs": [],
   "source": [
    "!lm_eval --model hf \\\n",
    "    --model_args pretrained=mistralai/Mixtral-8x7B-v0.1,dtype=\"bfloat16\",peft=dfurman/Mixtral-8x7B-Instruct-v0.1,load_in_4bit=True \\\n",
    "    --tasks mmlu \\\n",
    "    --batch_size 2 \\\n",
    "    --output_path /content/$now_log_folder/mmlu/mmlu_lm_eval.json \\\n",
    "    --device cuda:0 \\\n",
    "    --num_fewshot 5"
   ]
  },
  {
   "cell_type": "markdown",
   "metadata": {
    "id": "yMZrYPKOLrZz"
   },
   "source": [
    "# TruthfulQA\n",
    "\n",
    "TruthfulQA (0-shot) - a test to measure a model's propensity to reproduce falsehoods commonly found online. Note: TruthfulQA in the Harness is actually a minima a 6-shots task, as it is prepended by 6 examples systematically, even when launched using 0 for the number of few-shot examples."
   ]
  },
  {
   "cell_type": "code",
   "execution_count": null,
   "metadata": {
    "colab": {
     "background_save": true
    },
    "id": "SzSg6FlKrjZk",
    "outputId": "1e547703-e934-43ed-c8e4-79b18704199d"
   },
   "outputs": [],
   "source": [
    "!lm_eval --model hf \\\n",
    "    --model_args pretrained=mistralai/Mixtral-8x7B-v0.1,dtype=\"bfloat16\",peft=dfurman/Mixtral-8x7B-Instruct-v0.1,load_in_4bit=True \\\n",
    "    --tasks truthfulqa_mc2 \\\n",
    "    --batch_size 16 \\\n",
    "    --output_path /content/$now_log_folder/truthfulqa/truthfulqa_mc2_lm_eval.json \\\n",
    "    --device cuda:0 \\\n",
    "    --num_fewshot 0\n"
   ]
  },
  {
   "cell_type": "markdown",
   "metadata": {
    "id": "ZzeqfQaqLrff"
   },
   "source": [
    "# Winogrande\n",
    "Winogrande (5-shot) - an adversarial and difficult Winograd benchmark at scale, for commonsense reasoning.\n",
    "\n"
   ]
  },
  {
   "cell_type": "code",
   "execution_count": null,
   "metadata": {
    "colab": {
     "background_save": true
    },
    "id": "LduQR_dKr31q",
    "outputId": "468360ba-fa3f-445c-e5b4-9bc47a0b6e6d"
   },
   "outputs": [],
   "source": [
    "!lm_eval --model hf \\\n",
    "    --model_args pretrained=mistralai/Mixtral-8x7B-v0.1,dtype=\"bfloat16\",peft=dfurman/Mixtral-8x7B-Instruct-v0.1,load_in_4bit=True \\\n",
    "    --tasks winogrande \\\n",
    "    --batch_size 16 \\\n",
    "    --output_path /content/$now_log_folder/winogrande/winogrande_lm_eval.json \\\n",
    "    --device cuda:0 \\\n",
    "    --num_fewshot 5"
   ]
  },
  {
   "cell_type": "markdown",
   "metadata": {
    "id": "yLWIv0jJLynA"
   },
   "source": [
    "# GSM8k\n",
    "\n",
    "GSM8k (5-shot) - diverse grade school math word problems to measure a model's ability to solve multi-step mathematical reasoning problems."
   ]
  },
  {
   "cell_type": "code",
   "execution_count": null,
   "metadata": {
    "colab": {
     "background_save": true
    },
    "id": "hVWrx61vrk_I",
    "outputId": "e930accc-11bc-4baf-8e51-deabb6b1d3f8"
   },
   "outputs": [],
   "source": [
    "\n",
    "!lm_eval --model hf \\\n",
    "    --model_args pretrained=mistralai/Mixtral-8x7B-v0.1,dtype=\"bfloat16\",peft=dfurman/Mixtral-8x7B-Instruct-v0.1,load_in_4bit=True \\\n",
    "    --tasks gsm8k \\\n",
    "    --batch_size 8 \\\n",
    "    --output_path /content/$now_log_folder/gsm8k/gsm8k_lm_eval.json \\\n",
    "    --device cuda:0 \\\n",
    "    --num_fewshot 5"
   ]
  }
 ],
 "metadata": {
  "accelerator": "GPU",
  "colab": {
   "machine_shape": "hm",
   "provenance": []
  },
  "kernelspec": {
   "display_name": "Python 3",
   "name": "python3"
  },
  "language_info": {
   "codemirror_mode": {
    "name": "ipython",
    "version": 3
   },
   "file_extension": ".py",
   "mimetype": "text/x-python",
   "name": "python",
   "nbconvert_exporter": "python",
   "pygments_lexer": "ipython3",
   "version": "3.8.8"
  }
 },
 "nbformat": 4,
 "nbformat_minor": 0
}
